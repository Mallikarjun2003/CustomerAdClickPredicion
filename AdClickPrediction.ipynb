{
 "cells": [
  {
   "cell_type": "markdown",
   "id": "2d170080-dcee-4bfd-adc1-e12483344771",
   "metadata": {},
   "source": [
    "## Importing Libraries and Loading Data"
   ]
  },
  {
   "cell_type": "code",
   "execution_count": 1,
   "id": "74c21bc2-dcfd-471c-a135-3cb9ff65f1de",
   "metadata": {},
   "outputs": [],
   "source": [
    "import pandas as pd\n",
    "import numpy as np\n",
    "\n",
    "# Load the dataset\n",
    "customer_data = pd.read_csv(r\"C:\\Users\\91868\\OneDrive\\Desktop\\DATA SCIENCE PROJECTS\\CUSTOMER AD CLICK PREDICTION\\Ad Click Data.csv\")\n"
   ]
  },
  {
   "cell_type": "markdown",
   "id": "eb4233f7-c522-4cc0-8c71-9d378e0533b2",
   "metadata": {},
   "source": [
    "##  Getting Information about the Dataset"
   ]
  },
  {
   "cell_type": "code",
   "execution_count": 2,
   "id": "f2857695-0ca7-4ce4-a6a5-b1aa1687287e",
   "metadata": {},
   "outputs": [
    {
     "name": "stdout",
     "output_type": "stream",
     "text": [
      "<class 'pandas.core.frame.DataFrame'>\n",
      "RangeIndex: 1000 entries, 0 to 999\n",
      "Data columns (total 10 columns):\n",
      " #   Column                    Non-Null Count  Dtype  \n",
      "---  ------                    --------------  -----  \n",
      " 0   Daily Time Spent on Site  987 non-null    float64\n",
      " 1   Age                       1000 non-null   int64  \n",
      " 2   Area Income               987 non-null    float64\n",
      " 3   Daily Internet Usage      989 non-null    float64\n",
      " 4   Ad Topic Line             1000 non-null   object \n",
      " 5   City                      999 non-null    object \n",
      " 6   Male                      997 non-null    float64\n",
      " 7   Country                   991 non-null    object \n",
      " 8   Timestamp                 1000 non-null   object \n",
      " 9   Clicked on Ad             1000 non-null   int64  \n",
      "dtypes: float64(4), int64(2), object(4)\n",
      "memory usage: 78.3+ KB\n",
      "None\n"
     ]
    }
   ],
   "source": [
    "# Get information about the dataset\n",
    "print(customer_data.info())\n"
   ]
  },
  {
   "cell_type": "markdown",
   "id": "d379e97f-c28d-41b2-8959-4bc6c6451e21",
   "metadata": {},
   "source": [
    "##  Displaying Summary Statistics"
   ]
  },
  {
   "cell_type": "code",
   "execution_count": 3,
   "id": "8045ef3f-4238-49b2-b51c-a92a55fa8b5b",
   "metadata": {},
   "outputs": [
    {
     "name": "stdout",
     "output_type": "stream",
     "text": [
      "       Daily Time Spent on Site          Age   Area Income  \\\n",
      "count                987.000000  1000.000000    987.000000   \n",
      "mean                  64.929524    36.009000  54980.667234   \n",
      "std                   15.844699     8.785562  13439.998510   \n",
      "min                   32.600000    19.000000  13996.500000   \n",
      "25%                   51.270000    29.000000  46947.570000   \n",
      "50%                   68.110000    35.000000  57009.760000   \n",
      "75%                   78.460000    42.000000  65479.350000   \n",
      "max                   91.430000    61.000000  79484.800000   \n",
      "\n",
      "       Daily Internet Usage        Male  Clicked on Ad  \n",
      "count            989.000000  997.000000     1000.00000  \n",
      "mean             179.863620    0.480441        0.50000  \n",
      "std               43.870142    0.499868        0.50025  \n",
      "min              104.780000    0.000000        0.00000  \n",
      "25%              138.710000    0.000000        0.00000  \n",
      "50%              182.650000    0.000000        0.50000  \n",
      "75%              218.790000    1.000000        1.00000  \n",
      "max              267.010000    1.000000        1.00000  \n"
     ]
    }
   ],
   "source": [
    "# Display summary statistics for numerical features\n",
    "print(customer_data.describe())\n"
   ]
  },
  {
   "cell_type": "markdown",
   "id": "282d982e-c5fc-4379-a8a2-ae6a08d3b13f",
   "metadata": {},
   "source": [
    "## Displaying Unique Values for Categorical Features"
   ]
  },
  {
   "cell_type": "code",
   "execution_count": 4,
   "id": "2fcbddd5-db6b-401d-a91c-508c9477a584",
   "metadata": {},
   "outputs": [
    {
     "name": "stdout",
     "output_type": "stream",
     "text": [
      "Unique values for Ad Topic Line\n",
      "Ad Topic Line\n",
      "Cloned 5thgeneration orchestration              1\n",
      "Synchronized multi-tasking ability              1\n",
      "Customer-focused impactful success              1\n",
      "Open-source optimizing parallelism              1\n",
      "Organic logistical adapter                      1\n",
      "                                               ..\n",
      "Enhanced zero tolerance Graphic Interface       1\n",
      "De-engineered tertiary secured line             1\n",
      "Reverse-engineered well-modulated capability    1\n",
      "Integrated coherent pricing structure           1\n",
      "Virtual 5thgeneration emulation                 1\n",
      "Name: count, Length: 1000, dtype: int64\n",
      "\n",
      "Unique values for City\n",
      "City\n",
      "Lisamouth         3\n",
      "Williamsport      3\n",
      "Wrightburgh       2\n",
      "West Steven       2\n",
      "Robertfurt        2\n",
      "                 ..\n",
      "Hurleyborough     1\n",
      "Garychester       1\n",
      "East Kevinbury    1\n",
      "Contrerasshire    1\n",
      "Ronniemouth       1\n",
      "Name: count, Length: 968, dtype: int64\n",
      "\n",
      "Unique values for Country\n",
      "Country\n",
      "France                      9\n",
      "Czech Republic              9\n",
      "Afghanistan                 8\n",
      "Turkey                      8\n",
      "Micronesia                  8\n",
      "                           ..\n",
      "Germany                     1\n",
      "Saint Kitts and Nevis       1\n",
      "Central African Republic    1\n",
      "Jordan                      1\n",
      "Montenegro                  1\n",
      "Name: count, Length: 237, dtype: int64\n",
      "\n",
      "Unique values for Timestamp\n",
      "Timestamp\n",
      "5/26/2016 15:40    2\n",
      "5/30/2016 8:02     2\n",
      "5/20/2016 12:17    2\n",
      "5/15/2016 3:10     1\n",
      "4/5/2016 8:18      1\n",
      "                  ..\n",
      "5/12/2016 4:35     1\n",
      "1/1/2016 21:58     1\n",
      "3/13/2016 13:50    1\n",
      "7/16/2016 14:13    1\n",
      "6/3/2016 21:43     1\n",
      "Name: count, Length: 997, dtype: int64\n",
      "\n"
     ]
    }
   ],
   "source": [
    "# Display unique values and their counts for categorical features\n",
    "for column in customer_data.select_dtypes(include=['object']).columns:\n",
    "    print(\"Unique values for\", column)\n",
    "    print(customer_data[column].value_counts())\n",
    "    print()\n"
   ]
  },
  {
   "cell_type": "markdown",
   "id": "466903b1-ce11-4b42-b3cc-7ba19101cac6",
   "metadata": {},
   "source": [
    "## Plotting Histograms for Numerical Features"
   ]
  },
  {
   "cell_type": "code",
   "execution_count": 5,
   "id": "e5f090ae-944a-4580-8174-a1982ea9a12e",
   "metadata": {},
   "outputs": [
    {
     "data": {
      "image/png": "[encoded data removed]",
      "text/plain": [
       "<Figure size 1200x800 with 6 Axes>"
      ]
     },
     "metadata": {},
     "output_type": "display_data"
    }
   ],
   "source": [
    "import matplotlib.pyplot as plt\n",
    "\n",
    "# Plot histograms for numerical features\n",
    "customer_data.hist(figsize=(12, 8))\n",
    "plt.tight_layout()\n",
    "plt.show()\n"
   ]
  },
  {
   "cell_type": "markdown",
   "id": "c8686419-9359-4f68-bc8b-aba94be8c870",
   "metadata": {},
   "source": [
    "## Handling Missing Values"
   ]
  },
  {
   "cell_type": "code",
   "execution_count": 6,
   "id": "557590f4-4bdc-4997-8d6b-95b06e0a1423",
   "metadata": {},
   "outputs": [
    {
     "name": "stdout",
     "output_type": "stream",
     "text": [
      "Missing values:\n",
      " Daily Time Spent on Site    13\n",
      "Age                          0\n",
      "Area Income                 13\n",
      "Daily Internet Usage        11\n",
      "Ad Topic Line                0\n",
      "City                         1\n",
      "Male                         3\n",
      "Country                      9\n",
      "Timestamp                    0\n",
      "Clicked on Ad                0\n",
      "dtype: int64\n"
     ]
    }
   ],
   "source": [
    "# Check for missing values\n",
    "print(\"Missing values:\\n\", customer_data.isnull().sum())\n",
    "\n",
    "# Handle missing values\n",
    "# For numerical columns, fill missing values with mean\n",
    "customer_data['Daily Time Spent on Site'].fillna(customer_data['Daily Time Spent on Site'].mean(), inplace=True)\n",
    "customer_data['Area Income'].fillna(customer_data['Area Income'].mean(), inplace=True)\n",
    "customer_data['Daily Internet Usage'].fillna(customer_data['Daily Internet Usage'].mean(), inplace=True)\n",
    "\n",
    "# For categorical columns, fill missing values with mode\n",
    "customer_data['City'].fillna(customer_data['City'].mode()[0], inplace=True)\n",
    "customer_data['Country'].fillna(customer_data['Country'].mode()[0], inplace=True)\n"
   ]
  },
  {
   "cell_type": "code",
   "execution_count": 7,
   "id": "97b21122-c8b4-49c8-b8fa-0650c5345718",
   "metadata": {},
   "outputs": [
    {
     "name": "stdout",
     "output_type": "stream",
     "text": [
      "Missing values:\n",
      " Daily Time Spent on Site    0\n",
      "Age                         0\n",
      "Area Income                 0\n",
      "Daily Internet Usage        0\n",
      "Ad Topic Line               0\n",
      "City                        0\n",
      "Male                        3\n",
      "Country                     0\n",
      "Timestamp                   0\n",
      "Clicked on Ad               0\n",
      "dtype: int64\n"
     ]
    }
   ],
   "source": [
    "print(\"Missing values:\\n\", customer_data.isnull().sum())\n"
   ]
  },
  {
   "cell_type": "markdown",
   "id": "f83adcc7-e7d7-4069-b9e1-ec3d9970ea25",
   "metadata": {},
   "source": [
    "##  Encoding Categorical Variables and Feature Scaling"
   ]
  },
  {
   "cell_type": "code",
   "execution_count": 8,
   "id": "c0466822-61fd-4676-b4dc-0eba8dbb346d",
   "metadata": {},
   "outputs": [
    {
     "name": "stdout",
     "output_type": "stream",
     "text": [
      "   Daily Time Spent on Site       Age  Area Income  Daily Internet Usage  \\\n",
      "0                  0.255538 -0.114905     0.513521              1.748066   \n",
      "1                  0.972484 -0.570425     1.008662              0.318909   \n",
      "2                  0.288588 -1.139826     0.360065              1.298817   \n",
      "3                  0.586045 -0.798185    -0.013075              1.514154   \n",
      "4                  0.218673 -0.114905     1.416897              1.048394   \n",
      "\n",
      "       Male  Clicked on Ad  City_Adamsbury  City_Adamside  City_Adamsstad  \\\n",
      "0 -0.961619           -1.0           False          False           False   \n",
      "1  1.039913           -1.0           False          False           False   \n",
      "2 -0.961619           -1.0           False          False           False   \n",
      "3  1.039913           -1.0           False          False           False   \n",
      "4 -0.961619           -1.0           False          False           False   \n",
      "\n",
      "   City_Alanview  ...  Country_Uruguay  Country_Uzbekistan  Country_Vanuatu  \\\n",
      "0          False  ...            False               False            False   \n",
      "1          False  ...            False               False            False   \n",
      "2          False  ...            False               False            False   \n",
      "3          False  ...            False               False            False   \n",
      "4          False  ...            False               False            False   \n",
      "\n",
      "   Country_Venezuela  Country_Vietnam  Country_Wallis and Futuna  \\\n",
      "0              False            False                      False   \n",
      "1              False            False                      False   \n",
      "2              False            False                      False   \n",
      "3              False            False                      False   \n",
      "4              False            False                      False   \n",
      "\n",
      "   Country_Western Sahara  Country_Yemen  Country_Zambia  Country_Zimbabwe  \n",
      "0                   False          False           False             False  \n",
      "1                   False          False           False             False  \n",
      "2                   False          False           False             False  \n",
      "3                   False          False           False             False  \n",
      "4                   False          False           False             False  \n",
      "\n",
      "[5 rows x 1211 columns]\n"
     ]
    }
   ],
   "source": [
    "# Encode categorical variables\n",
    "customer_data_encoded = pd.get_dummies(customer_data, columns=['City', 'Country'])\n",
    "\n",
    "# Drop non-numeric columns or columns not suitable for modeling\n",
    "customer_data_encoded.drop(['Ad Topic Line', 'Timestamp'], axis=1, inplace=True)\n",
    "\n",
    "# Scale numerical features\n",
    "from sklearn.preprocessing import StandardScaler\n",
    "\n",
    "scaler = StandardScaler()\n",
    "numerical_columns = customer_data_encoded.select_dtypes(include=[np.number]).columns\n",
    "customer_data_encoded[numerical_columns] = scaler.fit_transform(customer_data_encoded[numerical_columns])\n",
    "\n",
    "# Display the first few rows of the preprocessed dataset\n",
    "print(customer_data_encoded.head())\n"
   ]
  },
  {
   "cell_type": "markdown",
   "id": "4c4b3319-1185-4c31-810f-a4f6a0bcb4c1",
   "metadata": {},
   "source": [
    "## Visualizing Distributions of Numerical Features"
   ]
  },
  {
   "cell_type": "code",
   "execution_count": 9,
   "id": "1ee78c78-1649-4c04-a68c-b8b1bc114bf5",
   "metadata": {},
   "outputs": [
    {
     "name": "stderr",
     "output_type": "stream",
     "text": [
      "D:\\Python\\Lib\\site-packages\\seaborn\\_oldcore.py:1119: FutureWarning: use_inf_as_na option is deprecated and will be removed in a future version. Convert inf values to NaN before operating instead.\n",
      "  with pd.option_context('mode.use_inf_as_na', True):\n"
     ]
    },
    {
     "data": {
      "image/png": "[encoded data removed]",
      "text/plain": [
       "<Figure size 640x480 with 1 Axes>"
      ]
     },
     "metadata": {},
     "output_type": "display_data"
    }
   ],
   "source": [
    "import seaborn as sns\n",
    "\n",
    "# Plot histograms for numerical features\n",
    "sns.histplot(customer_data_encoded['Daily Time Spent on Site'], bins=20, kde=True)\n",
    "plt.title('Distribution of Daily Time Spent on Site')\n",
    "plt.xlabel('Daily Time Spent on Site')\n",
    "plt.ylabel('Frequency')\n",
    "plt.show()\n",
    "\n",
    "# Repeat the above code for other numerical features (Age, Area Income, Daily Internet Usage)\n"
   ]
  },
  {
   "cell_type": "markdown",
   "id": "769f27e0-c475-40d8-a352-0b1679f6664d",
   "metadata": {},
   "source": [
    "## Splitting Data into Training and Testing Sets"
   ]
  },
  {
   "cell_type": "code",
   "execution_count": 10,
   "id": "c9b44a36-cfbb-4c72-b813-dd4b57db504d",
   "metadata": {},
   "outputs": [
    {
     "name": "stdout",
     "output_type": "stream",
     "text": [
      "Training set shape: (800, 1210) (800,)\n",
      "Testing set shape: (200, 1210) (200,)\n"
     ]
    }
   ],
   "source": [
    "from sklearn.model_selection import train_test_split\n",
    "\n",
    "# Separate features (X) and target variable (y)\n",
    "X = customer_data_encoded.drop('Clicked on Ad', axis=1)\n",
    "y = customer_data_encoded['Clicked on Ad']\n",
    "\n",
    "# Split the dataset into training and testing sets\n",
    "X_train, X_test, y_train, y_test = train_test_split(X, y, test_size=0.2, random_state=42)\n",
    "\n",
    "# Display the shapes of the training and testing sets\n",
    "print(\"Training set shape:\", X_train.shape, y_train.shape)\n",
    "print(\"Testing set shape:\", X_test.shape, y_test.shape)\n"
   ]
  },
  {
   "cell_type": "markdown",
   "id": "5b6b6db3-eef8-4aa9-9ba9-151968da38b8",
   "metadata": {},
   "source": [
    "## Handling Missing Values (if any)"
   ]
  },
  {
   "cell_type": "code",
   "execution_count": 11,
   "id": "d34516a3-4cdc-4efc-a3d8-ead281babdb5",
   "metadata": {},
   "outputs": [
    {
     "data": {
      "text/plain": [
       "Daily Time Spent on Site     0\n",
       "Age                          0\n",
       "Area Income                  0\n",
       "Daily Internet Usage         0\n",
       "Male                         0\n",
       "                            ..\n",
       "Country_Wallis and Futuna    0\n",
       "Country_Western Sahara       0\n",
       "Country_Yemen                0\n",
       "Country_Zambia               0\n",
       "Country_Zimbabwe             0\n",
       "Length: 1210, dtype: int64"
      ]
     },
     "execution_count": 11,
     "metadata": {},
     "output_type": "execute_result"
    }
   ],
   "source": [
    "X_train.isnull().sum()\n",
    "X_train[\"Male\"].fillna(1, inplace=True)  \n",
    "X_train.isnull().sum()\n"
   ]
  },
  {
   "cell_type": "markdown",
   "id": "f94c4502-48ef-4846-8cc9-c777f8ed740a",
   "metadata": {},
   "source": [
    "## Feature Selection Using SelectKBest"
   ]
  },
  {
   "cell_type": "code",
   "execution_count": 12,
   "id": "88ad2c47-35c4-4ebb-a165-c4cd07ca8090",
   "metadata": {},
   "outputs": [
    {
     "name": "stdout",
     "output_type": "stream",
     "text": [
      "Selected Features: Index(['Daily Time Spent on Site', 'Age', 'Area Income',\n",
      "       'Daily Internet Usage'],\n",
      "      dtype='object')\n"
     ]
    }
   ],
   "source": [
    "from sklearn.feature_selection import SelectKBest, f_classif\n",
    "import numpy as np\n",
    "\n",
    "# Identify constant features\n",
    "constant_features_idx = np.where(X_train.var() == 0)[0]\n",
    "\n",
    "# Remove constant features from the dataset\n",
    "X_train_filtered = X_train.drop(X_train.columns[constant_features_idx], axis=1)\n",
    "\n",
    "# Initialize SelectKBest with the desired number of features to select\n",
    "selector = SelectKBest(score_func=f_classif, k=4)  # Select top 4 features, you can change this number as needed\n",
    "\n",
    "# Fit SelectKBest to training data and transform the features\n",
    "X_train_selected = selector.fit_transform(X_train_filtered, y_train)\n",
    "\n",
    "# Get selected features\n",
    "selected_features_mask = selector.get_support()\n",
    "selected_features = X_train_filtered.columns[selected_features_mask]\n",
    "\n",
    "# Display selected features\n",
    "print(\"Selected Features:\", selected_features)\n"
   ]
  },
  {
   "cell_type": "markdown",
   "id": "fc1058ad-c9de-465d-bfbe-85efaa24eb57",
   "metadata": {},
   "source": [
    "## Training Logistic Regression Model"
   ]
  },
  {
   "cell_type": "code",
   "execution_count": 13,
   "id": "35d16883-093c-40b0-8868-0ce40d781768",
   "metadata": {},
   "outputs": [
    {
     "name": "stdout",
     "output_type": "stream",
     "text": [
      "Accuracy: 0.95\n",
      "\n",
      "Classification Report:\n",
      "              precision    recall  f1-score   support\n",
      "\n",
      "        -1.0       0.92      0.97      0.95        89\n",
      "         1.0       0.97      0.94      0.95       111\n",
      "\n",
      "    accuracy                           0.95       200\n",
      "   macro avg       0.95      0.95      0.95       200\n",
      "weighted avg       0.95      0.95      0.95       200\n",
      "\n",
      "\n",
      "Confusion Matrix:\n",
      "[[ 86   3]\n",
      " [  7 104]]\n"
     ]
    }
   ],
   "source": [
    "from sklearn.linear_model import LogisticRegression\n",
    "from sklearn.metrics import accuracy_score, classification_report, confusion_matrix\n",
    "\n",
    "# Select only the selected features for training\n",
    "X_train_selected = X_train[selected_features]\n",
    "\n",
    "# Initialize Logistic Regression model\n",
    "model = LogisticRegression()\n",
    "\n",
    "# Train the model on the selected features\n",
    "model.fit(X_train_selected, y_train)\n",
    "\n",
    "# Make predictions on the testing set\n",
    "X_test_selected = X_test[selected_features]\n",
    "y_pred = model.predict(X_test_selected)\n",
    "\n",
    "# Evaluate the model\n",
    "accuracy = accuracy_score(y_test, y_pred)\n",
    "print(\"Accuracy:\", accuracy)\n",
    "\n",
    "# Classification report\n",
    "print(\"\\nClassification Report:\")\n",
    "print(classification_report(y_test, y_pred))\n",
    "\n",
    "# Confusion matrix\n",
    "print(\"\\nConfusion Matrix:\")\n",
    "print(confusion_matrix(y_test, y_pred))\n"
   ]
  },
  {
   "cell_type": "markdown",
   "id": "ff13c7ac-0376-4ec0-9e2c-f28a05857cfc",
   "metadata": {},
   "source": [
    "##  Training Decision Tree Classifier"
   ]
  },
  {
   "cell_type": "code",
   "execution_count": 14,
   "id": "aca8ff6c-b7fd-4c3c-a2ec-6c4a7c24e2b2",
   "metadata": {},
   "outputs": [
    {
     "name": "stdout",
     "output_type": "stream",
     "text": [
      "Decision Tree Classifier Accuracy: 0.92\n"
     ]
    }
   ],
   "source": [
    "from sklearn.tree import DecisionTreeClassifier\n",
    "\n",
    "# Initialize Decision Tree Classifier model\n",
    "dt_model = DecisionTreeClassifier()\n",
    "\n",
    "# Train the model on the selected features\n",
    "dt_model.fit(X_train_selected, y_train)\n",
    "\n",
    "# Make predictions on the testing set\n",
    "y_pred_dt = dt_model.predict(X_test_selected)\n",
    "\n",
    "# Evaluate the model\n",
    "accuracy_dt = accuracy_score(y_test, y_pred_dt)\n",
    "print(\"Decision Tree Classifier Accuracy:\", accuracy_dt)\n"
   ]
  },
  {
   "cell_type": "markdown",
   "id": "9897bee6-599b-4854-9a8e-486688b5cc83",
   "metadata": {},
   "source": [
    "## Training Random Forest Classifier"
   ]
  },
  {
   "cell_type": "code",
   "execution_count": 15,
   "id": "ec3ed3f1-c234-4c85-8cf4-2cbe35a08623",
   "metadata": {},
   "outputs": [
    {
     "name": "stdout",
     "output_type": "stream",
     "text": [
      "Random Forest Classifier Accuracy: 0.935\n"
     ]
    }
   ],
   "source": [
    "from sklearn.ensemble import RandomForestClassifier\n",
    "\n",
    "# Initialize Random Forest Classifier model\n",
    "rf_model = RandomForestClassifier()\n",
    "\n",
    "# Train the model on the selected features\n",
    "rf_model.fit(X_train_selected, y_train)\n",
    "\n",
    "# Make predictions on the testing set\n",
    "y_pred_rf = rf_model.predict(X_test_selected)\n",
    "\n",
    "# Evaluate the model\n",
    "accuracy_rf = accuracy_score(y_test, y_pred_rf)\n",
    "print(\"Random Forest Classifier Accuracy:\", accuracy_rf)\n"
   ]
  },
  {
   "cell_type": "markdown",
   "id": "b0683fa8-fecc-4ce6-8a73-aeee6dc69df9",
   "metadata": {},
   "source": [
    "## Grid Search for Logistic Regression Hyperparameters"
   ]
  },
  {
   "cell_type": "code",
   "execution_count": 16,
   "id": "faa33b64-a9bb-4de5-971d-daba49ca9cee",
   "metadata": {},
   "outputs": [
    {
     "name": "stdout",
     "output_type": "stream",
     "text": [
      "Best Hyperparameters for Logistic Regression: {'C': 0.1, 'penalty': 'l2', 'solver': 'lbfgs'}\n",
      "Best Accuracy Score for Logistic Regression: 0.9700000000000001\n",
      "Accuracy: 0.945\n"
     ]
    }
   ],
   "source": [
    "from sklearn.model_selection import GridSearchCV\n",
    "from sklearn.linear_model import LogisticRegression\n",
    "\n",
    "# Define hyperparameter grid for logistic regression\n",
    "param_grid_lr = {\n",
    "    'C': [0.001, 0.01, 0.1, 1, 10, 100],  # Regularization parameter\n",
    "    'penalty': ['l2'],  # Penalty term (valid for 'lbfgs' solver)\n",
    "    'solver': ['lbfgs']  # Solver algorithm\n",
    "}\n",
    "\n",
    "# Initialize GridSearchCV for logistic regression\n",
    "grid_search_lr = GridSearchCV(LogisticRegression(), param_grid_lr, cv=5, scoring='accuracy')\n",
    "\n",
    "# Perform grid search to find the best hyperparameters\n",
    "grid_search_lr.fit(X_train_selected, y_train)\n",
    "\n",
    "# Get the best hyperparameters\n",
    "best_params_lr = grid_search_lr.best_params_\n",
    "print(\"Best Hyperparameters for Logistic Regression:\", best_params_lr)\n",
    "\n",
    "# Get the best accuracy score\n",
    "best_accuracy_lr = grid_search_lr.best_score_\n",
    "print(\"Best Accuracy Score for Logistic Regression:\", best_accuracy_lr)\n",
    "\n",
    "# Train the Logistic Regression model with the best hyperparameters\n",
    "final_lr_model = LogisticRegression(**best_params_lr)\n",
    "final_lr_model.fit(X_train_selected, y_train)\n",
    "\n",
    "# Make predictions on the testing set\n",
    "y_pred_lr = final_lr_model.predict(X_test_selected)\n",
    "\n",
    "# Evaluate the model\n",
    "accuracy_lr = accuracy_score(y_test, y_pred_lr)\n",
    "print(\"Accuracy:\", accuracy_lr)\n"
   ]
  },
  {
   "cell_type": "code",
   "execution_count": 17,
   "id": "e107a2a3-c527-4b6f-8e94-baa9856a562d",
   "metadata": {},
   "outputs": [
    {
     "name": "stdout",
     "output_type": "stream",
     "text": [
      "Predictions for the sample test data:\n",
      "Sample 1: Clicked on Ad\n",
      "Sample 2: Clicked on Ad\n",
      "Sample 3: Did not Click on Ad\n"
     ]
    },
    {
     "name": "stderr",
     "output_type": "stream",
     "text": [
      "D:\\Python\\Lib\\site-packages\\sklearn\\base.py:439: UserWarning: X does not have valid feature names, but LogisticRegression was fitted with feature names\n",
      "  warnings.warn(\n"
     ]
    }
   ],
   "source": [
    "import pandas as pd\n",
    "import numpy as np\n",
    "from sklearn.preprocessing import StandardScaler\n",
    "\n",
    "# Sample test data\n",
    "sample_data = {\n",
    "    'Daily Time Spent on Site': [54.8, 42.1, 62.5],\n",
    "    'Age': [35, 45, 30],\n",
    "    'Area Income': [50000, 60000, 55000],\n",
    "    'Daily Internet Usage': [230, 180, 250]\n",
    "}\n",
    "\n",
    "# Create a DataFrame for the sample test data\n",
    "sample_df = pd.DataFrame(sample_data)\n",
    "\n",
    "# Selected features for testing\n",
    "selected_features = ['Daily Time Spent on Site', 'Age', 'Area Income', 'Daily Internet Usage']\n",
    "\n",
    "# Exclude non-numeric columns from the scaling process\n",
    "numerical_columns = selected_features\n",
    "\n",
    "# Initialize StandardScaler\n",
    "scaler = StandardScaler()\n",
    "\n",
    "# Fit the scaler on the numerical columns\n",
    "scaler.fit(sample_df[numerical_columns])\n",
    "\n",
    "# Scale numerical features in sample data\n",
    "sample_df_scaled = scaler.transform(sample_df[numerical_columns])\n",
    "\n",
    "# Make predictions on the sample test data using the trained logistic regression model\n",
    "predictions_lr_sample = final_lr_model.predict(sample_df_scaled)\n",
    "\n",
    "# Display the predictions\n",
    "print(\"Predictions for the sample test data:\")\n",
    "for i, pred in enumerate(predictions_lr_sample):\n",
    "    print(f\"Sample {i+1}: {'Clicked on Ad' if pred == 1 else 'Did not Click on Ad'}\")\n"
   ]
  },
  {
   "cell_type": "code",
   "execution_count": null,
   "id": "ca78b4d2-be2d-4692-b9e8-9f1dd9e11627",
   "metadata": {},
   "outputs": [],
   "source": []
  }
 ],
 "metadata": {
  "kernelspec": {
   "display_name": "Python 3 (ipykernel)",
   "language": "python",
   "name": "python3"
  },
  "language_info": {
   "codemirror_mode": {
    "name": "ipython",
    "version": 3
   },
   "file_extension": ".py",
   "mimetype": "text/x-python",
   "name": "python",
   "nbconvert_exporter": "python",
   "pygments_lexer": "ipython3",
   "version": "3.11.7"
  }
 },
 "nbformat": 4,
 "nbformat_minor": 5
}
